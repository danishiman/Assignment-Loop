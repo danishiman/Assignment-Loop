{
 "cells": [
  {
   "cell_type": "code",
   "execution_count": 3,
   "id": "c1408582",
   "metadata": {},
   "outputs": [],
   "source": [
    "fruit = ['apple','orange','banana','durian']"
   ]
  },
  {
   "cell_type": "code",
   "execution_count": 5,
   "id": "8a3dea85",
   "metadata": {},
   "outputs": [
    {
     "name": "stdout",
     "output_type": "stream",
     "text": [
      "The fruit name is apple at index 0\n",
      "The fruit name is orange at index 1\n",
      "The fruit name is banana at index 2\n",
      "The fruit name is durian at index 3\n"
     ]
    }
   ],
   "source": [
    "index = 0\n",
    "for item in fruit:\n",
    "    print(\"The fruit name is \" + item + \" at index\",index)\n",
    "    #use (\"something\" + data + \"something\") in string\n",
    "    #use (\"something\", data) in integer\n",
    "    index = index +1"
   ]
  },
  {
   "cell_type": "code",
   "execution_count": 29,
   "id": "bb72d3e7",
   "metadata": {},
   "outputs": [
    {
     "name": "stdout",
     "output_type": "stream",
     "text": [
      "1\n",
      "2\n",
      "3\n",
      "4\n",
      "5\n",
      "6\n",
      "7\n",
      "8\n",
      "9\n",
      "10\n"
     ]
    }
   ],
   "source": [
    "count = 1\n",
    "while (count <= 10):\n",
    "    print(count)\n",
    "    count +=1"
   ]
  },
  {
   "cell_type": "code",
   "execution_count": 48,
   "id": "77671f36",
   "metadata": {},
   "outputs": [
    {
     "name": "stdout",
     "output_type": "stream",
     "text": [
      "0\n",
      "1\n",
      "2\n",
      "3\n",
      "4\n"
     ]
    }
   ],
   "source": [
    "for num in range(10):\n",
    "    if num == 5:\n",
    "        break\n",
    "    print(num)"
   ]
  },
  {
   "cell_type": "code",
   "execution_count": 50,
   "id": "9d422898",
   "metadata": {},
   "outputs": [
    {
     "name": "stdout",
     "output_type": "stream",
     "text": [
      "1 1\n",
      "1 2\n",
      "1 3\n",
      "1 4\n",
      "1 5\n",
      "2 1\n",
      "2 2\n",
      "2 3\n",
      "2 4\n",
      "2 5\n",
      "3 1\n",
      "3 2\n",
      "3 3\n",
      "3 4\n",
      "3 5\n",
      "4 1\n",
      "4 2\n",
      "4 3\n",
      "4 4\n",
      "4 5\n",
      "5 1\n",
      "5 2\n",
      "5 3\n",
      "5 4\n",
      "5 5\n"
     ]
    }
   ],
   "source": [
    "for i in range(1,6):\n",
    "    for j in range(1,6):\n",
    "        print(i, j)"
   ]
  },
  {
   "cell_type": "code",
   "execution_count": 51,
   "id": "61776904",
   "metadata": {},
   "outputs": [
    {
     "name": "stdout",
     "output_type": "stream",
     "text": [
      "0\n",
      "1\n",
      "3\n",
      "4\n"
     ]
    }
   ],
   "source": [
    "for num in range(5):\n",
    "    if num == 2:\n",
    "        continue\n",
    "    print(num)"
   ]
  },
  {
   "cell_type": "code",
   "execution_count": 53,
   "id": "b6f56ffe",
   "metadata": {},
   "outputs": [
    {
     "name": "stdout",
     "output_type": "stream",
     "text": [
      "1 pow 1 = 1.0\n",
      "1 pow 2 = 1.0\n",
      "1 pow 3 = 1.0\n",
      "1 pow 4 = 1.0\n",
      "1 pow 5 = 1.0\n",
      "--------\n",
      "2 pow 1 = 2.0\n",
      "2 pow 2 = 4.0\n",
      "2 pow 3 = 8.0\n",
      "2 pow 4 = 16.0\n",
      "2 pow 5 = 32.0\n",
      "--------\n",
      "3 pow 1 = 3.0\n",
      "3 pow 2 = 9.0\n",
      "3 pow 3 = 27.0\n",
      "3 pow 4 = 81.0\n",
      "3 pow 5 = 243.0\n",
      "--------\n",
      "4 pow 1 = 4.0\n",
      "4 pow 2 = 16.0\n",
      "4 pow 3 = 64.0\n",
      "4 pow 4 = 256.0\n",
      "4 pow 5 = 1024.0\n",
      "--------\n",
      "5 pow 1 = 5.0\n",
      "5 pow 2 = 25.0\n",
      "5 pow 3 = 125.0\n",
      "5 pow 4 = 625.0\n",
      "5 pow 5 = 3125.0\n",
      "--------\n",
      "6 pow 1 = 6.0\n",
      "6 pow 2 = 36.0\n",
      "6 pow 3 = 216.0\n",
      "6 pow 4 = 1296.0\n",
      "6 pow 5 = 7776.0\n",
      "--------\n",
      "7 pow 1 = 7.0\n",
      "7 pow 2 = 49.0\n",
      "7 pow 3 = 343.0\n",
      "7 pow 4 = 2401.0\n",
      "7 pow 5 = 16807.0\n",
      "--------\n",
      "8 pow 1 = 8.0\n",
      "8 pow 2 = 64.0\n",
      "8 pow 3 = 512.0\n",
      "8 pow 4 = 4096.0\n",
      "8 pow 5 = 32768.0\n",
      "--------\n",
      "9 pow 1 = 9.0\n",
      "9 pow 2 = 81.0\n",
      "9 pow 3 = 729.0\n",
      "9 pow 4 = 6561.0\n",
      "9 pow 5 = 59049.0\n",
      "--------\n"
     ]
    }
   ],
   "source": [
    "import math\n",
    "\n",
    "for i in range(1,10):\n",
    "    for j in range(1,6):\n",
    "        print(i, \"pow\", j, \"=\", math.pow(i,j))\n",
    "    print(\"--------\")"
   ]
  },
  {
   "cell_type": "code",
   "execution_count": null,
   "id": "0c5bf3c9",
   "metadata": {},
   "outputs": [],
   "source": []
  }
 ],
 "metadata": {
  "kernelspec": {
   "display_name": "Python 3 (ipykernel)",
   "language": "python",
   "name": "python3"
  },
  "language_info": {
   "codemirror_mode": {
    "name": "ipython",
    "version": 3
   },
   "file_extension": ".py",
   "mimetype": "text/x-python",
   "name": "python",
   "nbconvert_exporter": "python",
   "pygments_lexer": "ipython3",
   "version": "3.11.5"
  }
 },
 "nbformat": 4,
 "nbformat_minor": 5
}
